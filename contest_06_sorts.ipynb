{
  "cells": [
    {
      "cell_type": "markdown",
      "metadata": {
        "id": "view-in-github",
        "colab_type": "text"
      },
      "source": [
        "<a href=\"https://colab.research.google.com/github/arinafil/informatic_ds/blob/main/contest_06_sorts.ipynb\" target=\"_parent\"><img src=\"https://colab.research.google.com/assets/colab-badge.svg\" alt=\"Open In Colab\"/></a>"
      ]
    },
    {
      "cell_type": "markdown",
      "metadata": {
        "id": "hf-qeLFsJ29q"
      },
      "source": [
        " # Написать программу, осуществляющую сортировку выбором введённых целых чисел по возрастанию. Внимание! Сначала необходимо считать все введённые числа в один список"
      ]
    },
    {
      "cell_type": "code",
      "execution_count": null,
      "metadata": {
        "colab": {
          "base_uri": "https://localhost:8080/"
        },
        "id": "_jozbhyZJ29s",
        "outputId": "92a25c9a-4abc-41b0-bb02-36d097ac118e"
      },
      "outputs": [
        {
          "output_type": "stream",
          "name": "stdout",
          "text": [
            "3 2 1\n",
            "1 2 3\n"
          ]
        }
      ],
      "source": [
        "numbers = list( map(int, input().split()) )\n",
        "\n",
        "for i, num in enumerate(numbers):\n",
        "    minimum = min( range( i, len(numbers) ), key=numbers.__getitem__ )\n",
        "    numbers[i], numbers[minimum] = numbers[minimum], num\n",
        "    if numbers[i] != numbers[minimum]:\n",
        "        print(*numbers)"
      ]
    },
    {
      "cell_type": "markdown",
      "metadata": {
        "id": "4VtSjYYdJ29t"
      },
      "source": [
        " # Написать программу, осуществляющую сортировку вставкой введённых целых чисел по возрастанию. Внимание! Сначала необходимо считать все введённые числа в один список"
      ]
    },
    {
      "cell_type": "code",
      "execution_count": null,
      "metadata": {
        "id": "NGB50SY0J29u",
        "outputId": "c0e52b5e-4e69-4ea9-e8c7-7a3550b88844"
      },
      "outputs": [
        {
          "name": "stdout",
          "output_type": "stream",
          "text": [
            "3 2 1\n",
            "2 3 1\n",
            "2 1 3\n",
            "1 2 3\n"
          ]
        }
      ],
      "source": [
        "numbers = list( map(int, input().split()) )\n",
        "\n",
        "for i in range( 1, len(numbers) ):\n",
        "    j = i - 1\n",
        "    key = numbers[i]\n",
        "    while numbers[j] > key and j >= 0:\n",
        "        numbers[j + 1], numbers[j] = numbers[j], numbers[j+1]\n",
        "        j -= 1\n",
        "        print(*numbers)\n",
        "    numbers[j + 1] = key"
      ]
    },
    {
      "cell_type": "markdown",
      "metadata": {
        "id": "hZGkd8smJ29u"
      },
      "source": [
        " # Сортировка дурака. Простейшая сортировка, которая каждый раз, когда находит нарушение порядка, исправляет его, и снова начинает поиск с самого начала массива. Внимание! Сначала необходимо считать все введенные числа в один список."
      ]
    },
    {
      "cell_type": "code",
      "execution_count": null,
      "metadata": {
        "id": "C2ApxYwwJ29u",
        "outputId": "e84ba2df-dc3c-44f3-bea6-e10c2e89a074"
      },
      "outputs": [
        {
          "name": "stdout",
          "output_type": "stream",
          "text": [
            "1 -1 4 3\n",
            "-1 1 4 3\n",
            "-1 1 3 4\n"
          ]
        }
      ],
      "source": [
        "numbers = list( map(int, input().split()) )\n",
        "\n",
        "i = 1\n",
        "while i < len(numbers):\n",
        "    if numbers[i-1] > numbers[i]:\n",
        "        numbers[i-1], numbers[i] = numbers[i], numbers[i-1]\n",
        "        i = 1\n",
        "        print(*numbers)\n",
        "    else:\n",
        "        i += 1"
      ]
    },
    {
      "cell_type": "markdown",
      "metadata": {
        "id": "7Rl-61oYJ29v"
      },
      "source": [
        " # Написать программу, осуществляющую сортировку пузырьком введённых целых чисел по возрастанию. Внимание! Сначала необходимо считать все введённые числа в один список"
      ]
    },
    {
      "cell_type": "code",
      "execution_count": null,
      "metadata": {
        "id": "_tVsa_c-J29v",
        "outputId": "38a3bb9a-608e-4fc1-b2d8-23de2c60a512"
      },
      "outputs": [
        {
          "name": "stdout",
          "output_type": "stream",
          "text": [
            "1 2\n"
          ]
        }
      ],
      "source": [
        "numbers = list( map(int, input().split()) )\n",
        "\n",
        "for i in range(len(numbers) - 1):\n",
        "    for j in range(1, len(numbers) - i):\n",
        "        if numbers[j - 1] > numbers[j]:\n",
        "            numbers[j - 1], numbers[j] = numbers[j], numbers[j - 1]\n",
        "            print(*numbers)"
      ]
    },
    {
      "cell_type": "markdown",
      "metadata": {
        "id": "uGAqQa_6J29v"
      },
      "source": [
        " # В этой задаче необходимо реализовать сортировку подсчётом для массива десятичных цифр."
      ]
    },
    {
      "cell_type": "code",
      "execution_count": null,
      "metadata": {
        "id": "987LMVZQJ29v",
        "outputId": "2343829b-7bc7-4e1e-a793-3d8cde5b3f88"
      },
      "outputs": [
        {
          "name": "stdout",
          "output_type": "stream",
          "text": [
            "0 1 2 3 4 5 6 7 8 9\n",
            "1 0 0 0 0 0 0 0 0 0\n",
            "1 1 0 0 0 0 0 0 0 0\n",
            "1 1 1 0 0 0 0 0 0 0\n",
            "1 1 1 1 0 0 0 0 0 0\n",
            "1 1 1 1 1 0 0 0 0 0\n",
            "1 1 1 1 1 1 0 0 0 0\n",
            "1 1 1 1 1 1 1 0 0 0\n",
            "1 1 1 1 1 1 1 1 0 0\n",
            "1 1 1 1 1 1 1 1 1 0\n",
            "1 1 1 1 1 1 1 1 1 1\n",
            "0 1 2 3 4 5 6 7 8 9\n"
          ]
        }
      ],
      "source": [
        "numbers = list( map(int, input().split()) )\n",
        "\n",
        "keys = [0, 1, 2, 3, 4, 5, 6, 7, 8, 9]\n",
        "counter = [0] * 10\n",
        "\n",
        "for num in numbers:\n",
        "    if num in keys:\n",
        "        counter[num] += 1\n",
        "        print(*counter)\n",
        "\n",
        "count = 0\n",
        "for i in range(len(keys)):\n",
        "    if counter[i] > 0:\n",
        "        for j in range(counter[i]):\n",
        "            numbers[j + count] = keys[i]\n",
        "        count += counter[i]\n",
        "\n",
        "print(*numbers)"
      ]
    },
    {
      "cell_type": "markdown",
      "metadata": {
        "id": "OZXaET0AJ29w"
      },
      "source": [
        " # Написать программу, осуществляющую поразрядную сортировку введённых целых чисел в двоичной системе счисления по возрастанию. Внимание! Сначала необходимо считать все введённые числа в один список"
      ]
    },
    {
      "cell_type": "code",
      "execution_count": null,
      "metadata": {
        "id": "0_Mqqqt-J29w",
        "outputId": "85c2d954-8352-494e-9b67-018cb3762886"
      },
      "outputs": [
        {
          "name": "stdout",
          "output_type": "stream",
          "text": [
            "11 10 1\n",
            "10 11 1\n",
            "1 10 11\n"
          ]
        }
      ],
      "source": [
        "numbers = list( map(int, input().split()) )\n",
        "\n",
        "bucket = [ [] for i in range(10) ]\n",
        "\n",
        "max_pow = len( str( max(numbers) ))\n",
        "\n",
        "for k in range(max_pow):\n",
        "    for i in range(len(numbers)):\n",
        "        numbers[i] = '0' * (max_pow - len(str(numbers[i]))) + str(numbers[i])\n",
        "        for j in range(10):\n",
        "            if int(numbers[i][::-1][k]) == j:\n",
        "                bucket[j].append(numbers[i])\n",
        "\n",
        "    count = 0\n",
        "    for m in range(10):\n",
        "        if bucket[m]:\n",
        "            for j, num in enumerate(bucket[m]):\n",
        "                numbers[j + count] = int(num)\n",
        "            count += len(bucket[m])\n",
        "\n",
        "    bucket = [ [] for i in range(10) ]\n",
        "\n",
        "    print(*numbers)"
      ]
    },
    {
      "cell_type": "markdown",
      "metadata": {
        "id": "my76ClbbJ29w"
      },
      "source": [
        " # Отсортировать массив по сумме цифр входного массива."
      ]
    },
    {
      "cell_type": "code",
      "execution_count": null,
      "metadata": {
        "id": "PQPr0y-JJ29x",
        "outputId": "8f31c560-aeef-43a8-f06d-2ed7f5a7445f"
      },
      "outputs": [
        {
          "name": "stdout",
          "output_type": "stream",
          "text": [
            "2\n",
            "9\n",
            "12\n",
            "12\n",
            "9\n"
          ]
        }
      ],
      "source": [
        "def sum_of_digits(number):\n",
        "\n",
        "    summ = 0\n",
        "    for digit in str(number):\n",
        "        summ += int(digit)\n",
        "    return summ\n",
        "\n",
        "\n",
        "amount = int(input())\n",
        "\n",
        "numbers = []\n",
        "\n",
        "for i in range(amount):\n",
        "    number = int(input())\n",
        "    numbers.append( [number, sum_of_digits(number)] )\n",
        "\n",
        "\n",
        "for i in range(len(numbers) - 1):\n",
        "    for j in range(1, len(numbers) - i):\n",
        "        if numbers[j - 1][1] > numbers[j][1]:\n",
        "            numbers[j - 1], numbers[j] = numbers[j], numbers[j - 1]\n",
        "        if numbers[j - 1][1] == numbers[j][1]:\n",
        "            numbers[j], numbers[j - 1] = (max([numbers[j - 1], numbers[j]], key=lambda k: [k[1], k[0]]),\n",
        "                                          min([numbers[j - 1], numbers[j]], key=lambda k: [k[1], k[0]]))\n",
        "\n",
        "for i in range(len(numbers)):\n",
        "    print(numbers[i][0])"
      ]
    },
    {
      "cell_type": "markdown",
      "metadata": {
        "id": "uZ5kwCP0J29x"
      },
      "source": [
        " # На вход подается массив из чисел. Вам необходимо отсортировать его так, чтобы нечетные по значению элементы остались на своих местах, а четные по значению элементы шли по возрастанию."
      ]
    },
    {
      "cell_type": "code",
      "execution_count": null,
      "metadata": {
        "id": "tYJVLdKFJ29x",
        "outputId": "90e465a3-5dec-411a-d774-d75746567a33"
      },
      "outputs": [
        {
          "name": "stdout",
          "output_type": "stream",
          "text": [
            "4\n",
            "-5\n",
            "-10\n",
            "-14\n",
            "-2\n",
            "-5 -14 -10 -2\n"
          ]
        }
      ],
      "source": [
        "def is_divisible_by_two(number):\n",
        "\n",
        "    if number % 2 == 0:\n",
        "        return 1\n",
        "    else:\n",
        "        return 0\n",
        "\n",
        "\n",
        "amount = int(input())\n",
        "\n",
        "numbers = []\n",
        "\n",
        "for i in range(amount):\n",
        "    number = int(input())\n",
        "    numbers.append( [number, is_divisible_by_two(number)] )\n",
        "\n",
        "div_by_2 = []\n",
        "\n",
        "for index, num in enumerate(numbers):\n",
        "    if num[1] == 1:\n",
        "        div_by_2.append( [num[0], index] )\n",
        "\n",
        "for i in range(len(div_by_2) - 1):\n",
        "    for j in range(1, len(div_by_2) - i):\n",
        "        if div_by_2[j - 1][0] > div_by_2[j][0]:\n",
        "            div_by_2[j - 1][0], div_by_2[j][0] = div_by_2[j][0], div_by_2[j - 1][0]\n",
        "\n",
        "for num in div_by_2:\n",
        "    numbers[ num[1] ] = num[0]\n",
        "\n",
        "for i in range(len(numbers)):\n",
        "    if type(numbers[i]) != int:\n",
        "        numbers[i] = numbers[i][0]\n",
        "\n",
        "print(*numbers)"
      ]
    },
    {
      "cell_type": "markdown",
      "metadata": {
        "id": "OewRocdQJ29y"
      },
      "source": [
        " # Необходимо отсортировать набор дат в хронологическом порядке во возрастанию.\n",
        "\n",
        "Дата состоит из дня, месяца, года и времени с точностью до минут.\n",
        "\n",
        "Названия месяцев английские, с заглавной буквы.\n",
        "\n",
        "Диапазон времени 00:00 - 23:59."
      ]
    },
    {
      "cell_type": "code",
      "execution_count": null,
      "metadata": {
        "id": "R7yqSIR0J29y",
        "outputId": "ba6394ca-48be-40bf-cebd-284a4c968015"
      },
      "outputs": [
        {
          "name": "stdout",
          "output_type": "stream",
          "text": [
            "3\n",
            "20 December 2019 16:00\n",
            "20 January 2015 16:00\n",
            "20 November 2019 16:00\n",
            "20 January 2015 16:00\n",
            "20 November 2019 16:00\n",
            "20 December 2019 16:00\n"
          ]
        }
      ],
      "source": [
        "def find_name(dictionary, value):\n",
        "\n",
        "    for name, val in dictionary.items():\n",
        "        if val == value:\n",
        "            return name\n",
        "\n",
        "\n",
        "amount = int(input())\n",
        "\n",
        "dates = []\n",
        "\n",
        "for i in range(amount):\n",
        "    dates.append([string for string in input().split()])\n",
        "    dates[i].append(0)\n",
        "    dates[i].append(0)\n",
        "\n",
        "months = {'January' : 1, 'February' : 2, 'March' : 3,\n",
        "          'April' : 4, 'May' : 5, 'June' : 6, 'July' : 7,\n",
        "          'August' : 8, 'September' : 9, 'October' : 10,\n",
        "          'November' : 11, 'December' : 12}\n",
        "\n",
        "for date in dates:\n",
        "    for i in [0, 2]:\n",
        "        date[i] = int(date[i])\n",
        "    date[2] -= 2010\n",
        "    date[1] = months[ date[1] ]\n",
        "    time = date[3].split(\":\")\n",
        "    date[3] = int(time[0]) * 60 + int(time[1])\n",
        "    date[4] = time[0]\n",
        "    date[5] = time[1]\n",
        "\n",
        "    date[0], date[2] = date[2], date[0]\n",
        "    date[0], date[1], date[2], date[3] = date[3], date[2], date[1], date[0]\n",
        "\n",
        "length_bucket = [1501, 32, 13, 11]\n",
        "\n",
        "for k in range(4):\n",
        "    bucket = [ [] for i in range(length_bucket[k]) ]\n",
        "    for date in dates:\n",
        "        for j in range(length_bucket[k]):\n",
        "            if date[k] == j:\n",
        "                bucket[j].append(date)\n",
        "    count = 0\n",
        "    for m in range(length_bucket[k]):\n",
        "        if bucket[m]:\n",
        "            for j, date in enumerate(bucket[m]):\n",
        "                dates[j + count] = date\n",
        "            count += len(bucket[m])\n",
        "\n",
        "for date in dates:\n",
        "    date[0], date[1], date[2], date[3] = date[3], date[2], date[1], date[0]\n",
        "    date[0], date[2] = str( date[2] ), str( date[0] + 2010 )\n",
        "    date[1] = find_name(months, date[1])\n",
        "\n",
        "for date in dates:\n",
        "    print(date[0] + ' ' + date[1] + ' ' + date[2] + ' ' + date[4] + ':' + date[5])"
      ]
    },
    {
      "cell_type": "code",
      "execution_count": null,
      "metadata": {
        "id": "F8EM2D78J29y"
      },
      "outputs": [],
      "source": []
    }
  ],
  "metadata": {
    "kernelspec": {
      "display_name": "Python 3",
      "language": "python",
      "name": "python3"
    },
    "language_info": {
      "codemirror_mode": {
        "name": "ipython",
        "version": 3
      },
      "file_extension": ".py",
      "mimetype": "text/x-python",
      "name": "python",
      "nbconvert_exporter": "python",
      "pygments_lexer": "ipython3",
      "version": "3.7.5"
    },
    "colab": {
      "provenance": [],
      "include_colab_link": true
    }
  },
  "nbformat": 4,
  "nbformat_minor": 0
}